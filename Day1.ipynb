{
  "nbformat": 4,
  "nbformat_minor": 0,
  "metadata": {
    "colab": {
      "provenance": []
    },
    "kernelspec": {
      "name": "python3",
      "display_name": "Python 3"
    },
    "language_info": {
      "name": "python"
    }
  },
  "cells": [
    {
      "cell_type": "code",
      "execution_count": null,
      "metadata": {
        "colab": {
          "base_uri": "https://localhost:8080/"
        },
        "id": "Yqxdj3D4yJ3N",
        "outputId": "79a21398-c755-4055-f7ae-59cadc76aaeb"
      },
      "outputs": [
        {
          "output_type": "stream",
          "name": "stdout",
          "text": [
            "welcome to everyone\n",
            "22\n"
          ]
        }
      ],
      "source": [
        "print(\"welcome to everyone\")\n",
        "\n",
        "x=10\n",
        "y=12\n",
        "print(x+y)"
      ]
    },
    {
      "cell_type": "markdown",
      "source": [
        "case sensitive"
      ],
      "metadata": {
        "id": "dYkLBOVV7qVx"
      }
    },
    {
      "cell_type": "code",
      "source": [
        "Name=\"vishakha\"\n",
        "name=\"vani\"\n",
        "print(Name,name)\n"
      ],
      "metadata": {
        "colab": {
          "base_uri": "https://localhost:8080/"
        },
        "id": "vBGR9e167vTg",
        "outputId": "67972ab9-b299-49a0-e32d-2ce8fdaa5d83"
      },
      "execution_count": null,
      "outputs": [
        {
          "output_type": "stream",
          "name": "stdout",
          "text": [
            "vishakha vani\n"
          ]
        }
      ]
    },
    {
      "cell_type": "markdown",
      "source": [
        "Indentation Matters"
      ],
      "metadata": {
        "id": "RpagJKSN8cMr"
      }
    },
    {
      "cell_type": "code",
      "source": [
        "if x>0:\n",
        "  print(\"x is positive\")\n",
        "else:\n",
        "  print(\"x is negitive\")"
      ],
      "metadata": {
        "colab": {
          "base_uri": "https://localhost:8080/"
        },
        "id": "5oCiEbGp8n2S",
        "outputId": "8b6ed59e-1cae-4c05-f49b-ce05e37af732"
      },
      "execution_count": null,
      "outputs": [
        {
          "output_type": "stream",
          "name": "stdout",
          "text": [
            "x is positive\n"
          ]
        }
      ]
    },
    {
      "cell_type": "markdown",
      "source": [
        "**Variable and Data types**\n",
        "\n",
        "\n",
        "Numeric Datatype\n"
      ],
      "metadata": {
        "id": "1dhjT-XW9LGi"
      }
    },
    {
      "cell_type": "code",
      "source": [
        "age=20\n",
        "height=5.4\n",
        "complex_num=3+3j\n",
        "\n",
        "print(type(age))\n",
        "print(type(height))\n",
        "print(type(complex_num))"
      ],
      "metadata": {
        "colab": {
          "base_uri": "https://localhost:8080/"
        },
        "id": "_CUgnqHh9bK5",
        "outputId": "cd218b0f-fef2-4a8f-94c6-935e840daf42"
      },
      "execution_count": null,
      "outputs": [
        {
          "output_type": "stream",
          "name": "stdout",
          "text": [
            "<class 'int'>\n",
            "<class 'float'>\n",
            "<class 'complex'>\n"
          ]
        }
      ]
    },
    {
      "cell_type": "markdown",
      "source": [
        "Sring Type"
      ],
      "metadata": {
        "id": "GdMRDIoY9_5x"
      }
    },
    {
      "cell_type": "code",
      "source": [
        "name=\"vishakha\"\n",
        "msg='welcome to python'\n",
        "multiline=\"\"\"this is mutliline code\"\"\"\n",
        "print(type(name))\n",
        "print(type(msg))\n",
        "print(type(multiline))"
      ],
      "metadata": {
        "colab": {
          "base_uri": "https://localhost:8080/"
        },
        "id": "fD-on9oc9fPX",
        "outputId": "6f13cdd3-d559-49f0-ec0a-9a3695a89640"
      },
      "execution_count": null,
      "outputs": [
        {
          "output_type": "stream",
          "name": "stdout",
          "text": [
            "<class 'str'>\n",
            "<class 'str'>\n",
            "<class 'str'>\n"
          ]
        }
      ]
    },
    {
      "cell_type": "markdown",
      "source": [
        "Boolean Type"
      ],
      "metadata": {
        "id": "3HEhgOm9-wkY"
      }
    },
    {
      "cell_type": "code",
      "source": [
        "is_active=True\n",
        "is_finished=False\n",
        "\n",
        "print(\"this is active\",is_active)"
      ],
      "metadata": {
        "colab": {
          "base_uri": "https://localhost:8080/"
        },
        "id": "zqi-_dlF-3L2",
        "outputId": "4b9ed5bd-abfd-435b-d015-e631c85d5c7e"
      },
      "execution_count": null,
      "outputs": [
        {
          "output_type": "stream",
          "name": "stdout",
          "text": [
            "this is active True\n"
          ]
        }
      ]
    },
    {
      "cell_type": "markdown",
      "source": [
        "Type Checking"
      ],
      "metadata": {
        "id": "h1N9aoDX_VWI"
      }
    },
    {
      "cell_type": "code",
      "source": [
        "x=12\n",
        "y=2.3\n",
        "z=\"vish\"\n",
        "print(type(x))\n",
        "print(type(y))\n",
        "print(type(z))"
      ],
      "metadata": {
        "colab": {
          "base_uri": "https://localhost:8080/"
        },
        "id": "-qsNZQoZ_YhY",
        "outputId": "fa423a17-7536-433d-d76e-4f0e3791cf0c"
      },
      "execution_count": null,
      "outputs": [
        {
          "output_type": "stream",
          "name": "stdout",
          "text": [
            "<class 'int'>\n",
            "<class 'float'>\n",
            "<class 'str'>\n"
          ]
        }
      ]
    },
    {
      "cell_type": "markdown",
      "source": [
        "Type Converstion"
      ],
      "metadata": {
        "id": "NMxMc92a_124"
      }
    },
    {
      "cell_type": "code",
      "source": [
        "x=\"123\"\n",
        "y=int(x)\n",
        "z=float(x)\n",
        "print(x)\n",
        "print(y)\n",
        "print(z)"
      ],
      "metadata": {
        "colab": {
          "base_uri": "https://localhost:8080/"
        },
        "id": "ZHrfnSsL_8JB",
        "outputId": "3b2bcf49-a2e8-4ad3-bdf3-3df16998cee7"
      },
      "execution_count": null,
      "outputs": [
        {
          "output_type": "stream",
          "name": "stdout",
          "text": [
            "123\n",
            "123\n",
            "123.0\n"
          ]
        }
      ]
    },
    {
      "cell_type": "markdown",
      "source": [
        "**Exercise 1: Personal Information**\n",
        "\n",
        "create a variable for personal information"
      ],
      "metadata": {
        "id": "fcYTBdsPJEQK"
      }
    },
    {
      "cell_type": "code",
      "source": [
        "name=\"vishakha badi\"\n",
        "age=20\n",
        "city=\"mudhol\"\n",
        "height=5.4\n",
        "is_student=True\n",
        "\n",
        "print(name)\n",
        "print(age)\n",
        "print(city)\n",
        "print(height)\n",
        "print(is_student)"
      ],
      "metadata": {
        "colab": {
          "base_uri": "https://localhost:8080/"
        },
        "id": "rnIP2NFQJXnU",
        "outputId": "1c7d5d0a-0f56-4691-eea2-00ef65f427de"
      },
      "execution_count": null,
      "outputs": [
        {
          "output_type": "stream",
          "name": "stdout",
          "text": [
            "vishakha badi\n",
            "20\n",
            "mudhol\n",
            "5.4\n",
            "True\n"
          ]
        }
      ]
    },
    {
      "cell_type": "markdown",
      "source": [
        "Formatted or concatination"
      ],
      "metadata": {
        "id": "Z0Q24v6cJ8PF"
      }
    },
    {
      "cell_type": "code",
      "source": [
        "print(\"vish\"+\"akha\")\n",
        "print(\"vani\" + \" badi\"+\" from\"+\" mudhol\")"
      ],
      "metadata": {
        "colab": {
          "base_uri": "https://localhost:8080/"
        },
        "id": "pymSJtwHKH-t",
        "outputId": "be4630ab-0d9d-43fa-f769-49b75331feda"
      },
      "execution_count": null,
      "outputs": [
        {
          "output_type": "stream",
          "name": "stdout",
          "text": [
            "vishakha\n",
            "vani badi from mudhol\n"
          ]
        }
      ]
    },
    {
      "cell_type": "markdown",
      "source": [
        "**Operators & Basic Operations**\n",
        "\n",
        "Arithmetic Operators"
      ],
      "metadata": {
        "id": "d1QldrilKu8f"
      }
    },
    {
      "cell_type": "code",
      "source": [
        "x=10\n",
        "y=20\n",
        "print(x+y)\n",
        "print(x-y)\n",
        "print(x*y)\n",
        "print(x/y)\n",
        "print(x//y)\n",
        "print(x%y)"
      ],
      "metadata": {
        "colab": {
          "base_uri": "https://localhost:8080/"
        },
        "id": "8qahSWBjJW_-",
        "outputId": "e568d842-e9a8-4748-8514-46f5c24e79ac"
      },
      "execution_count": null,
      "outputs": [
        {
          "output_type": "stream",
          "name": "stdout",
          "text": [
            "30\n",
            "-10\n",
            "200\n",
            "0.5\n",
            "0\n",
            "10\n"
          ]
        }
      ]
    },
    {
      "cell_type": "markdown",
      "source": [
        "Order of operations (PEMDAS)\n",
        "P - Parentheses\n",
        "E - Exponents\n",
        "M - Multiplication\n",
        "D - Division\n",
        "A - Addition\n",
        "S - Subtraction"
      ],
      "metadata": {
        "id": "R95OEft4LPE2"
      }
    },
    {
      "cell_type": "code",
      "source": [
        "result = 2 + 3 * 4 ** 2 - 1\n",
        "print(f\"2 + 3 * 4 ** 2 - 1 = {result}\")"
      ],
      "metadata": {
        "colab": {
          "base_uri": "https://localhost:8080/"
        },
        "id": "5O8rmLkjLRKc",
        "outputId": "38a64162-eb25-486d-ccb4-220688390251"
      },
      "execution_count": null,
      "outputs": [
        {
          "output_type": "stream",
          "name": "stdout",
          "text": [
            "2 + 3 * 4 ** 2 - 1 = 49\n"
          ]
        }
      ]
    },
    {
      "cell_type": "markdown",
      "source": [
        "Relational Operators (or) Comparison"
      ],
      "metadata": {
        "id": "IwG-63AWLkH9"
      }
    },
    {
      "cell_type": "code",
      "source": [
        "x=20\n",
        "y=10\n",
        "print(x>y)\n",
        "print(x<y)\n",
        "print(x==y)\n",
        "print(x>=y)\n",
        "print(y<=x)\n"
      ],
      "metadata": {
        "colab": {
          "base_uri": "https://localhost:8080/"
        },
        "id": "M4TUmaGOLmuT",
        "outputId": "4998778c-2446-4bba-af3d-15d492246d68"
      },
      "execution_count": null,
      "outputs": [
        {
          "output_type": "stream",
          "name": "stdout",
          "text": [
            "True\n",
            "False\n",
            "False\n",
            "True\n",
            "True\n"
          ]
        }
      ]
    },
    {
      "cell_type": "markdown",
      "source": [
        "String comparison"
      ],
      "metadata": {
        "id": "d8zjwPydMFDa"
      }
    },
    {
      "cell_type": "code",
      "source": [
        "x=\"vish\"\n",
        "y=\"badi\"\n",
        "print(x>y)"
      ],
      "metadata": {
        "colab": {
          "base_uri": "https://localhost:8080/"
        },
        "id": "3VXNC6bNMHiO",
        "outputId": "2786536e-24cc-4e06-eb47-48f722b5a18f"
      },
      "execution_count": null,
      "outputs": [
        {
          "output_type": "stream",
          "name": "stdout",
          "text": [
            "True\n"
          ]
        }
      ]
    },
    {
      "cell_type": "markdown",
      "source": [
        "Logical Operators"
      ],
      "metadata": {
        "id": "uwkloSKZMVCk"
      }
    },
    {
      "cell_type": "code",
      "source": [
        "x=20\n",
        "y=10\n",
        "print(x and y)\n",
        "print(x or y)\n",
        "print(not x)"
      ],
      "metadata": {
        "colab": {
          "base_uri": "https://localhost:8080/"
        },
        "id": "1H1UdFsBMWkb",
        "outputId": "5cd92f63-7a19-43b0-aa4d-33942a53150b"
      },
      "execution_count": null,
      "outputs": [
        {
          "output_type": "stream",
          "name": "stdout",
          "text": [
            "10\n",
            "20\n",
            "False\n"
          ]
        }
      ]
    },
    {
      "cell_type": "code",
      "source": [
        "age=20\n",
        "license=18\n",
        "e= age>18 or license>18\n",
        "print(e)"
      ],
      "metadata": {
        "colab": {
          "base_uri": "https://localhost:8080/"
        },
        "id": "JdxgTsd6NTYt",
        "outputId": "6eaae664-82a4-45d6-84ea-8c7b004d19db"
      },
      "execution_count": null,
      "outputs": [
        {
          "output_type": "stream",
          "name": "stdout",
          "text": [
            "True\n"
          ]
        }
      ]
    },
    {
      "cell_type": "markdown",
      "source": [
        "**Exercise 2: Simple Calculator**\n",
        "\n",
        "\n",
        "Create a calculator"
      ],
      "metadata": {
        "id": "Ilw1xP8KN0zD"
      }
    },
    {
      "cell_type": "code",
      "source": [
        "def add(a,b):\n",
        "  return a+b\n",
        "def sub(a,b):\n",
        "  return a-b\n",
        "def mul(a,b):\n",
        "  return a*b\n",
        "def div(a,b):\n",
        "  return a/b\n",
        "\n",
        "print(add(10,20))\n",
        "print(sub(20,5))\n",
        "print(mul(20,20))\n",
        "print(div(20,2))\n",
        "\n",
        "\n",
        "\n"
      ],
      "metadata": {
        "colab": {
          "base_uri": "https://localhost:8080/"
        },
        "id": "x4xDB1xFN-7E",
        "outputId": "5d08be45-c083-4df3-e6fe-6c3fb8c2c5ec"
      },
      "execution_count": null,
      "outputs": [
        {
          "output_type": "stream",
          "name": "stdout",
          "text": [
            "30\n",
            "15\n",
            "400\n",
            "10.0\n"
          ]
        }
      ]
    },
    {
      "cell_type": "markdown",
      "source": [
        "**Data Structures**\n",
        "\n",
        "Lists\n",
        "Creating lists"
      ],
      "metadata": {
        "id": "pMXP0qYr1Aad"
      }
    },
    {
      "cell_type": "code",
      "source": [
        "list=[\"vish\",\"kavita\",\"jyoti\",\"aishu\",\"lachii\"]\n",
        "print(list)\n",
        "\n",
        "mix_list=[10,\"vish\",True,3.23]\n",
        "print(mix_list)"
      ],
      "metadata": {
        "colab": {
          "base_uri": "https://localhost:8080/"
        },
        "id": "ldK6p-OE1NyQ",
        "outputId": "b0a251d9-b179-4f4a-9aee-e4f46d7def9f"
      },
      "execution_count": null,
      "outputs": [
        {
          "output_type": "stream",
          "name": "stdout",
          "text": [
            "['vish', 'kavita', 'jyoti', 'aishu', 'lachii']\n",
            "[10, 'vish', True, 3.23]\n"
          ]
        }
      ]
    },
    {
      "cell_type": "markdown",
      "source": [
        "List indexing (0-based)"
      ],
      "metadata": {
        "id": "gRCsx6tD3Bw7"
      }
    },
    {
      "cell_type": "code",
      "source": [
        "print(list[0])\n",
        "print(mix_list[-1])"
      ],
      "metadata": {
        "colab": {
          "base_uri": "https://localhost:8080/"
        },
        "id": "MLNRIgXO3EJA",
        "outputId": "1d202cf6-7724-4489-cf17-fcfa0889a47d"
      },
      "execution_count": null,
      "outputs": [
        {
          "output_type": "stream",
          "name": "stdout",
          "text": [
            "vish\n",
            "3.23\n"
          ]
        }
      ]
    },
    {
      "cell_type": "markdown",
      "source": [
        "List slicing"
      ],
      "metadata": {
        "id": "N6s_zd_93Zdq"
      }
    },
    {
      "cell_type": "code",
      "source": [
        "print(list[1:4])\n",
        "print(mix_list[-4:-1])"
      ],
      "metadata": {
        "colab": {
          "base_uri": "https://localhost:8080/"
        },
        "id": "wYU3o9SZ3bN6",
        "outputId": "44117db1-3c48-47cb-fc4c-9a1b86bd258c"
      },
      "execution_count": null,
      "outputs": [
        {
          "output_type": "stream",
          "name": "stdout",
          "text": [
            "['kavita', 'jyoti', 'aishu']\n",
            "[10, 'vish', True]\n"
          ]
        }
      ]
    },
    {
      "cell_type": "markdown",
      "source": [
        "List methods"
      ],
      "metadata": {
        "id": "BJ_kU_i53vq1"
      }
    },
    {
      "cell_type": "code",
      "source": [
        "list.append(\"nayii\")\n",
        "print(list)\n",
        "list.insert(1,\"vijay\")\n",
        "print(list)"
      ],
      "metadata": {
        "colab": {
          "base_uri": "https://localhost:8080/"
        },
        "id": "XsBbZlfL3x4Z",
        "outputId": "2e4bd504-9a6f-4708-8c09-df6bad5a7528"
      },
      "execution_count": null,
      "outputs": [
        {
          "output_type": "stream",
          "name": "stdout",
          "text": [
            "['vish', 'kavita', 'jyoti', 'aishu', 'lachii', 'nayii', 'nayii']\n",
            "['vish', 'vijay', 'kavita', 'jyoti', 'aishu', 'lachii', 'nayii', 'nayii']\n"
          ]
        }
      ]
    },
    {
      "cell_type": "markdown",
      "source": [
        "List operations"
      ],
      "metadata": {
        "id": "6dIEEvEZ4h1f"
      }
    },
    {
      "cell_type": "code",
      "source": [
        "print(len(list))\n",
        "print( 'vish' in list)\n",
        "print(list.index('vish'))"
      ],
      "metadata": {
        "colab": {
          "base_uri": "https://localhost:8080/"
        },
        "id": "m54B3g_j4lII",
        "outputId": "3feefc93-9772-49a1-a3d1-367596b09aaf"
      },
      "execution_count": null,
      "outputs": [
        {
          "output_type": "stream",
          "name": "stdout",
          "text": [
            "8\n",
            "True\n",
            "0\n"
          ]
        }
      ]
    },
    {
      "cell_type": "markdown",
      "source": [
        "**Tuples**\n",
        "\n",
        "Tuples are immutable"
      ],
      "metadata": {
        "id": "Pigf7HmnsjBP"
      }
    },
    {
      "cell_type": "code",
      "source": [
        "x=(1,2,\"vish\",2.34,1,1)\n",
        "print(x)\n",
        "print(type(x))"
      ],
      "metadata": {
        "colab": {
          "base_uri": "https://localhost:8080/"
        },
        "id": "0_-4Qh8gsque",
        "outputId": "bef42167-8262-4813-bbfc-4548bda134b9"
      },
      "execution_count": null,
      "outputs": [
        {
          "output_type": "stream",
          "name": "stdout",
          "text": [
            "(1, 2, 'vish', 2.34, 1, 1)\n",
            "<class 'tuple'>\n"
          ]
        }
      ]
    },
    {
      "cell_type": "markdown",
      "source": [
        "Tuple methods"
      ],
      "metadata": {
        "id": "MJjngkQQtUkY"
      }
    },
    {
      "cell_type": "code",
      "source": [
        "y=(1,2,4,2,1,1,2,1)\n",
        "print(y.count(1))\n",
        "print(y.index(4))"
      ],
      "metadata": {
        "colab": {
          "base_uri": "https://localhost:8080/"
        },
        "id": "wOLOk3v3tWTH",
        "outputId": "22a34f51-4e6a-4225-9314-0fee9f7175a2"
      },
      "execution_count": null,
      "outputs": [
        {
          "output_type": "stream",
          "name": "stdout",
          "text": [
            "4\n",
            "2\n"
          ]
        }
      ]
    },
    {
      "cell_type": "markdown",
      "source": [
        "**Why use tuples?**\n",
        "\n",
        "1)Immutable (safe for dictionary keys)\n",
        "2)Slightly faster than lists\n",
        "3)Good for fixed collections"
      ],
      "metadata": {
        "id": "kBdworvuuEMA"
      }
    },
    {
      "cell_type": "markdown",
      "source": [
        "**Dictionaries**\n",
        "\n",
        "Dictionary creation"
      ],
      "metadata": {
        "id": "hkDRb1Y1ub6t"
      }
    },
    {
      "cell_type": "code",
      "source": [
        "dict={\n",
        "    \"name\":\"vish\",\n",
        "    \"age\":20,\n",
        "    \"city\":\"mudhol\",\n",
        "    \"salary\":25000,\n",
        "    \"skills\":[\"python\",\"c\",\"sql\"]\n",
        "}\n",
        "print(dict)"
      ],
      "metadata": {
        "colab": {
          "base_uri": "https://localhost:8080/"
        },
        "id": "DC_Y95C_uUOg",
        "outputId": "17aa5f91-d2e5-4fc0-a6d6-a2227f195316"
      },
      "execution_count": null,
      "outputs": [
        {
          "output_type": "stream",
          "name": "stdout",
          "text": [
            "{'name': 'vish', 'age': 20, 'city': 'mudhol', 'salary': 25000, 'skills': ['python', 'c', 'sql']}\n"
          ]
        }
      ]
    },
    {
      "cell_type": "markdown",
      "source": [
        "Accessing values and Methods"
      ],
      "metadata": {
        "id": "enYpO5tyvMb1"
      }
    },
    {
      "cell_type": "code",
      "source": [
        "print(dict.keys())\n",
        "print(dict.values())\n",
        "print(dict.get(\"name\"))\n",
        "print(dict[\"age\"])\n",
        "print(dict.items())"
      ],
      "metadata": {
        "colab": {
          "base_uri": "https://localhost:8080/"
        },
        "id": "XvsoaQK8vN8U",
        "outputId": "759a8640-89a3-46f8-f7d1-9fe92aa85fa6"
      },
      "execution_count": null,
      "outputs": [
        {
          "output_type": "stream",
          "name": "stdout",
          "text": [
            "dict_keys(['name', 'age', 'city', 'salary', 'skills'])\n",
            "dict_values(['vish', 20, 'mudhol', 25000, ['python', 'c', 'sql']])\n",
            "vish\n",
            "20\n",
            "dict_items([('name', 'vish'), ('age', 20), ('city', 'mudhol'), ('salary', 25000), ('skills', ['python', 'c', 'sql'])])\n"
          ]
        }
      ]
    },
    {
      "cell_type": "markdown",
      "source": [
        "Adding/updating"
      ],
      "metadata": {
        "id": "Byd3tI-twSD3"
      }
    },
    {
      "cell_type": "code",
      "source": [
        "dict[\"name\"]=\"nayii\"\n",
        "print(dict)\n",
        "\n",
        "dict[\"salary\"]=45000\n",
        "print(dict)"
      ],
      "metadata": {
        "colab": {
          "base_uri": "https://localhost:8080/"
        },
        "id": "m2c9x5IhwUZt",
        "outputId": "3d92c9dd-c25c-4fd9-c7d9-d9d7d3fa7f88"
      },
      "execution_count": null,
      "outputs": [
        {
          "output_type": "stream",
          "name": "stdout",
          "text": [
            "{'name': 'nayii', 'age': 20, 'city': 'mudhol', 'salary': 25000, 'skills': ['python', 'c', 'sql']}\n",
            "{'name': 'nayii', 'age': 20, 'city': 'mudhol', 'salary': 45000, 'skills': ['python', 'c', 'sql']}\n"
          ]
        }
      ]
    },
    {
      "cell_type": "markdown",
      "source": [
        "Practical use case: Inventory management"
      ],
      "metadata": {
        "id": "VYnPINjoxFPF"
      }
    },
    {
      "cell_type": "code",
      "source": [
        "inventory={\n",
        "    \"laptop\":{\"quentity\":200 ,\"price\":234000},\n",
        "    \"mobile\":{\"quentity\":120 ,\"price\":40000},\n",
        "    \"tablets\":{\"quentity\":180 ,\"price\":78000}\n",
        "}\n",
        "print(inventory)\n",
        "print(inventory['laptop']['price'])\n",
        "print(inventory['mobile']['quentity'])"
      ],
      "metadata": {
        "colab": {
          "base_uri": "https://localhost:8080/"
        },
        "id": "aWNkeF9YxGnG",
        "outputId": "e4b34b34-8b4e-40d9-cf40-d1ba44082b9f"
      },
      "execution_count": null,
      "outputs": [
        {
          "output_type": "stream",
          "name": "stdout",
          "text": [
            "{'laptop': {'quentity': 200, 'price': 234000}, 'mobile': {'quentity': 120, 'price': 40000}, 'tablets': {'quentity': 180, 'price': 78000}}\n",
            "234000\n",
            "120\n"
          ]
        }
      ]
    },
    {
      "cell_type": "markdown",
      "source": [
        "**Sets**\n",
        "\n",
        "Sets contain unique elements"
      ],
      "metadata": {
        "id": "r98FKCSO2Z-k"
      }
    },
    {
      "cell_type": "code",
      "source": [
        "set={21,34,3.0,True,1}\n",
        "print(set)\n",
        "print(type(set))"
      ],
      "metadata": {
        "colab": {
          "base_uri": "https://localhost:8080/"
        },
        "id": "YFV_DuT02foD",
        "outputId": "c1201739-8e72-4b7f-b65b-e12128021251"
      },
      "execution_count": null,
      "outputs": [
        {
          "output_type": "stream",
          "name": "stdout",
          "text": [
            "{True, 34, 3.0, 21}\n",
            "<class 'set'>\n"
          ]
        }
      ]
    },
    {
      "cell_type": "code",
      "source": [
        "a={\"vish\",\"eshii\",\"vanii\",\"nayii\",\"ranii\",\"ranii\"}\n",
        "print(a)\n",
        "print(type(a))"
      ],
      "metadata": {
        "colab": {
          "base_uri": "https://localhost:8080/"
        },
        "id": "buif3LZd23Wu",
        "outputId": "58644361-4c96-4188-848e-3002b1ecd18c"
      },
      "execution_count": null,
      "outputs": [
        {
          "output_type": "stream",
          "name": "stdout",
          "text": [
            "{'eshii', 'nayii', 'vish', 'vanii', 'ranii'}\n",
            "<class 'set'>\n"
          ]
        }
      ]
    },
    {
      "cell_type": "markdown",
      "source": [
        "Set operations"
      ],
      "metadata": {
        "id": "AzuzWFTY3fom"
      }
    },
    {
      "cell_type": "code",
      "source": [
        "x={1,2,3,4,1,5,2}\n",
        "y={3,8,6,1,4,6,5}\n",
        "\n",
        "print(x.intersection(y))\n",
        "print(x.union(y))\n",
        "print(x.difference(y))\n",
        "\n",
        "x.add(20)\n",
        "print(x)\n",
        "\n",
        "x.update([2,30])\n",
        "print(x)"
      ],
      "metadata": {
        "colab": {
          "base_uri": "https://localhost:8080/"
        },
        "id": "fi3fUH_F3g6l",
        "outputId": "5aa5b790-5607-4317-a217-a575f7bc5c63"
      },
      "execution_count": null,
      "outputs": [
        {
          "output_type": "stream",
          "name": "stdout",
          "text": [
            "{1, 3, 4, 5}\n",
            "{1, 2, 3, 4, 5, 6, 8}\n",
            "{2}\n",
            "{1, 2, 3, 4, 5, 20}\n",
            "{1, 2, 3, 4, 5, 20, 30}\n"
          ]
        }
      ]
    }
  ]
}